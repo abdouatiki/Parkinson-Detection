{
 "cells": [
  {
   "cell_type": "markdown",
   "metadata": {
    "id": "6NoDSUXA7yys"
   },
   "source": [
    "prediction maladie de parkinson en utilisant Neural Network"
   ]
  },
  {
   "cell_type": "code",
   "execution_count": 6,
   "metadata": {
    "colab": {
     "base_uri": "https://localhost:8080/",
     "height": 277
    },
    "id": "dHU5BuaC7dTY",
    "outputId": "12a039f4-b2f8-4d1b-8067-12c993c640d7"
   },
   "outputs": [
    {
     "data": {
      "text/html": [
       "<div>\n",
       "<style scoped>\n",
       "    .dataframe tbody tr th:only-of-type {\n",
       "        vertical-align: middle;\n",
       "    }\n",
       "\n",
       "    .dataframe tbody tr th {\n",
       "        vertical-align: top;\n",
       "    }\n",
       "\n",
       "    .dataframe thead th {\n",
       "        text-align: right;\n",
       "    }\n",
       "</style>\n",
       "<table border=\"1\" class=\"dataframe\">\n",
       "  <thead>\n",
       "    <tr style=\"text-align: right;\">\n",
       "      <th></th>\n",
       "      <th>subject#</th>\n",
       "      <th>age</th>\n",
       "      <th>sex</th>\n",
       "      <th>test_time</th>\n",
       "      <th>motor_UPDRS</th>\n",
       "      <th>total_UPDRS</th>\n",
       "      <th>Jitter(%)</th>\n",
       "      <th>Jitter(Abs)</th>\n",
       "      <th>Jitter:RAP</th>\n",
       "      <th>Jitter:PPQ5</th>\n",
       "      <th>...</th>\n",
       "      <th>Shimmer(dB)</th>\n",
       "      <th>Shimmer:APQ3</th>\n",
       "      <th>Shimmer:APQ5</th>\n",
       "      <th>Shimmer:APQ11</th>\n",
       "      <th>Shimmer:DDA</th>\n",
       "      <th>NHR</th>\n",
       "      <th>HNR</th>\n",
       "      <th>RPDE</th>\n",
       "      <th>DFA</th>\n",
       "      <th>PPE</th>\n",
       "    </tr>\n",
       "  </thead>\n",
       "  <tbody>\n",
       "    <tr>\n",
       "      <th>0</th>\n",
       "      <td>1</td>\n",
       "      <td>72</td>\n",
       "      <td>0</td>\n",
       "      <td>5.6431</td>\n",
       "      <td>28.199</td>\n",
       "      <td>34.398</td>\n",
       "      <td>0.00662</td>\n",
       "      <td>0.000034</td>\n",
       "      <td>0.00401</td>\n",
       "      <td>0.00317</td>\n",
       "      <td>...</td>\n",
       "      <td>0.230</td>\n",
       "      <td>0.01438</td>\n",
       "      <td>0.01309</td>\n",
       "      <td>0.01662</td>\n",
       "      <td>0.04314</td>\n",
       "      <td>0.014290</td>\n",
       "      <td>21.640</td>\n",
       "      <td>0.41888</td>\n",
       "      <td>0.54842</td>\n",
       "      <td>0.16006</td>\n",
       "    </tr>\n",
       "    <tr>\n",
       "      <th>1</th>\n",
       "      <td>1</td>\n",
       "      <td>72</td>\n",
       "      <td>0</td>\n",
       "      <td>12.6660</td>\n",
       "      <td>28.447</td>\n",
       "      <td>34.894</td>\n",
       "      <td>0.00300</td>\n",
       "      <td>0.000017</td>\n",
       "      <td>0.00132</td>\n",
       "      <td>0.00150</td>\n",
       "      <td>...</td>\n",
       "      <td>0.179</td>\n",
       "      <td>0.00994</td>\n",
       "      <td>0.01072</td>\n",
       "      <td>0.01689</td>\n",
       "      <td>0.02982</td>\n",
       "      <td>0.011112</td>\n",
       "      <td>27.183</td>\n",
       "      <td>0.43493</td>\n",
       "      <td>0.56477</td>\n",
       "      <td>0.10810</td>\n",
       "    </tr>\n",
       "    <tr>\n",
       "      <th>2</th>\n",
       "      <td>1</td>\n",
       "      <td>72</td>\n",
       "      <td>0</td>\n",
       "      <td>19.6810</td>\n",
       "      <td>28.695</td>\n",
       "      <td>35.389</td>\n",
       "      <td>0.00481</td>\n",
       "      <td>0.000025</td>\n",
       "      <td>0.00205</td>\n",
       "      <td>0.00208</td>\n",
       "      <td>...</td>\n",
       "      <td>0.181</td>\n",
       "      <td>0.00734</td>\n",
       "      <td>0.00844</td>\n",
       "      <td>0.01458</td>\n",
       "      <td>0.02202</td>\n",
       "      <td>0.020220</td>\n",
       "      <td>23.047</td>\n",
       "      <td>0.46222</td>\n",
       "      <td>0.54405</td>\n",
       "      <td>0.21014</td>\n",
       "    </tr>\n",
       "    <tr>\n",
       "      <th>3</th>\n",
       "      <td>1</td>\n",
       "      <td>72</td>\n",
       "      <td>0</td>\n",
       "      <td>25.6470</td>\n",
       "      <td>28.905</td>\n",
       "      <td>35.810</td>\n",
       "      <td>0.00528</td>\n",
       "      <td>0.000027</td>\n",
       "      <td>0.00191</td>\n",
       "      <td>0.00264</td>\n",
       "      <td>...</td>\n",
       "      <td>0.327</td>\n",
       "      <td>0.01106</td>\n",
       "      <td>0.01265</td>\n",
       "      <td>0.01963</td>\n",
       "      <td>0.03317</td>\n",
       "      <td>0.027837</td>\n",
       "      <td>24.445</td>\n",
       "      <td>0.48730</td>\n",
       "      <td>0.57794</td>\n",
       "      <td>0.33277</td>\n",
       "    </tr>\n",
       "    <tr>\n",
       "      <th>4</th>\n",
       "      <td>1</td>\n",
       "      <td>72</td>\n",
       "      <td>0</td>\n",
       "      <td>33.6420</td>\n",
       "      <td>29.187</td>\n",
       "      <td>36.375</td>\n",
       "      <td>0.00335</td>\n",
       "      <td>0.000020</td>\n",
       "      <td>0.00093</td>\n",
       "      <td>0.00130</td>\n",
       "      <td>...</td>\n",
       "      <td>0.176</td>\n",
       "      <td>0.00679</td>\n",
       "      <td>0.00929</td>\n",
       "      <td>0.01819</td>\n",
       "      <td>0.02036</td>\n",
       "      <td>0.011625</td>\n",
       "      <td>26.126</td>\n",
       "      <td>0.47188</td>\n",
       "      <td>0.56122</td>\n",
       "      <td>0.19361</td>\n",
       "    </tr>\n",
       "  </tbody>\n",
       "</table>\n",
       "<p>5 rows × 22 columns</p>\n",
       "</div>"
      ],
      "text/plain": [
       "   subject#  age  sex  test_time  motor_UPDRS  total_UPDRS  Jitter(%)  \\\n",
       "0         1   72    0     5.6431       28.199       34.398    0.00662   \n",
       "1         1   72    0    12.6660       28.447       34.894    0.00300   \n",
       "2         1   72    0    19.6810       28.695       35.389    0.00481   \n",
       "3         1   72    0    25.6470       28.905       35.810    0.00528   \n",
       "4         1   72    0    33.6420       29.187       36.375    0.00335   \n",
       "\n",
       "   Jitter(Abs)  Jitter:RAP  Jitter:PPQ5  ...  Shimmer(dB)  Shimmer:APQ3  \\\n",
       "0     0.000034     0.00401      0.00317  ...        0.230       0.01438   \n",
       "1     0.000017     0.00132      0.00150  ...        0.179       0.00994   \n",
       "2     0.000025     0.00205      0.00208  ...        0.181       0.00734   \n",
       "3     0.000027     0.00191      0.00264  ...        0.327       0.01106   \n",
       "4     0.000020     0.00093      0.00130  ...        0.176       0.00679   \n",
       "\n",
       "   Shimmer:APQ5  Shimmer:APQ11  Shimmer:DDA       NHR     HNR     RPDE  \\\n",
       "0       0.01309        0.01662      0.04314  0.014290  21.640  0.41888   \n",
       "1       0.01072        0.01689      0.02982  0.011112  27.183  0.43493   \n",
       "2       0.00844        0.01458      0.02202  0.020220  23.047  0.46222   \n",
       "3       0.01265        0.01963      0.03317  0.027837  24.445  0.48730   \n",
       "4       0.00929        0.01819      0.02036  0.011625  26.126  0.47188   \n",
       "\n",
       "       DFA      PPE  \n",
       "0  0.54842  0.16006  \n",
       "1  0.56477  0.10810  \n",
       "2  0.54405  0.21014  \n",
       "3  0.57794  0.33277  \n",
       "4  0.56122  0.19361  \n",
       "\n",
       "[5 rows x 22 columns]"
      ]
     },
     "execution_count": 6,
     "metadata": {},
     "output_type": "execute_result"
    }
   ],
   "source": [
    "import pandas as pd\n",
    "import numpy as np\n",
    "# Spécifiez le chemin vers votre fichier .data\n",
    "chemin_fichier = 'parkinsons_updrs.txt'\n",
    "\n",
    "# Chargez le fichier en utilisant pandas en spécifiant la virgule comme séparateur\n",
    "# et en définissant la première ligne comme l'en-tête (header)\n",
    "data = pd.read_csv(chemin_fichier, sep=',', header=0)\n",
    "\n",
    "# Affichez les premières lignes pour vérifier si les données ont été chargées correctement\n",
    "data.columns\n",
    "# print(data.iloc[0:190,:])\n",
    "\n",
    "# drope des colones qui sont nulle\n",
    "data = data.dropna(axis=0)\n",
    "data.head()\n"
   ]
  },
  {
   "cell_type": "code",
   "execution_count": 35,
   "metadata": {
    "colab": {
     "base_uri": "https://localhost:8080/"
    },
    "id": "cm4e-CnWFwzs",
    "outputId": "5ff61002-7672-43de-85b0-8f45c4cc217a"
   },
   "outputs": [
    {
     "data": {
      "text/plain": [
       "Index(['subject#', 'age', 'sex', 'test_time', 'motor_UPDRS', 'total_UPDRS',\n",
       "       'Jitter(%)', 'Jitter(Abs)', 'Jitter:RAP', 'Jitter:PPQ5', 'Jitter:DDP',\n",
       "       'Shimmer', 'Shimmer(dB)', 'Shimmer:APQ3', 'Shimmer:APQ5',\n",
       "       'Shimmer:APQ11', 'Shimmer:DDA', 'NHR', 'HNR', 'RPDE', 'DFA', 'PPE'],\n",
       "      dtype='object')"
      ]
     },
     "execution_count": 35,
     "metadata": {},
     "output_type": "execute_result"
    }
   ],
   "source": [
    "data.columns"
   ]
  },
  {
   "cell_type": "code",
   "execution_count": 7,
   "metadata": {
    "id": "bxU3Q_Ur8G11"
   },
   "outputs": [
    {
     "name": "stdout",
     "output_type": "stream",
     "text": [
      "      subject#  age  sex  test_time  Jitter(%)  Jitter(Abs)  Jitter:RAP  \\\n",
      "0            1   72    0     5.6431    0.00662     0.000034     0.00401   \n",
      "1            1   72    0    12.6660    0.00300     0.000017     0.00132   \n",
      "2            1   72    0    19.6810    0.00481     0.000025     0.00205   \n",
      "3            1   72    0    25.6470    0.00528     0.000027     0.00191   \n",
      "4            1   72    0    33.6420    0.00335     0.000020     0.00093   \n",
      "...        ...  ...  ...        ...        ...          ...         ...   \n",
      "5870        42   61    0   142.7900    0.00406     0.000031     0.00167   \n",
      "5871        42   61    0   149.8400    0.00297     0.000025     0.00119   \n",
      "5872        42   61    0   156.8200    0.00349     0.000025     0.00152   \n",
      "5873        42   61    0   163.7300    0.00281     0.000020     0.00128   \n",
      "5874        42   61    0   170.7300    0.00282     0.000021     0.00135   \n",
      "\n",
      "      Jitter:PPQ5  Jitter:DDP  Shimmer  Shimmer(dB)  Shimmer:APQ3  \\\n",
      "0         0.00317     0.01204  0.02565        0.230       0.01438   \n",
      "1         0.00150     0.00395  0.02024        0.179       0.00994   \n",
      "2         0.00208     0.00616  0.01675        0.181       0.00734   \n",
      "3         0.00264     0.00573  0.02309        0.327       0.01106   \n",
      "4         0.00130     0.00278  0.01703        0.176       0.00679   \n",
      "...           ...         ...      ...          ...           ...   \n",
      "5870      0.00168     0.00500  0.01896        0.160       0.00973   \n",
      "5871      0.00147     0.00358  0.02315        0.215       0.01052   \n",
      "5872      0.00187     0.00456  0.02499        0.244       0.01371   \n",
      "5873      0.00151     0.00383  0.01484        0.131       0.00693   \n",
      "5874      0.00166     0.00406  0.01907        0.171       0.00946   \n",
      "\n",
      "      Shimmer:APQ5  Shimmer:APQ11  Shimmer:DDA       NHR     HNR     RPDE  \\\n",
      "0          0.01309        0.01662      0.04314  0.014290  21.640  0.41888   \n",
      "1          0.01072        0.01689      0.02982  0.011112  27.183  0.43493   \n",
      "2          0.00844        0.01458      0.02202  0.020220  23.047  0.46222   \n",
      "3          0.01265        0.01963      0.03317  0.027837  24.445  0.48730   \n",
      "4          0.00929        0.01819      0.02036  0.011625  26.126  0.47188   \n",
      "...            ...            ...          ...       ...     ...      ...   \n",
      "5870       0.01133        0.01549      0.02920  0.025137  22.369  0.64215   \n",
      "5871       0.01277        0.01904      0.03157  0.011927  22.886  0.52598   \n",
      "5872       0.01456        0.01877      0.04112  0.017701  25.065  0.47792   \n",
      "5873       0.00870        0.01307      0.02078  0.007984  24.422  0.56865   \n",
      "5874       0.01154        0.01470      0.02839  0.008172  23.259  0.58608   \n",
      "\n",
      "          DFA      PPE  \n",
      "0     0.54842  0.16006  \n",
      "1     0.56477  0.10810  \n",
      "2     0.54405  0.21014  \n",
      "3     0.57794  0.33277  \n",
      "4     0.56122  0.19361  \n",
      "...       ...      ...  \n",
      "5870  0.55314  0.21367  \n",
      "5871  0.56518  0.12621  \n",
      "5872  0.57888  0.14157  \n",
      "5873  0.56327  0.14204  \n",
      "5874  0.57077  0.15336  \n",
      "\n",
      "[5875 rows x 20 columns]\n"
     ]
    }
   ],
   "source": [
    "import pandas as pd\n",
    "from sklearn.preprocessing import MinMaxScaler\n",
    "from sklearn.model_selection import train_test_split\n",
    "from sklearn.neighbors import KNeighborsRegressor\n",
    "\n",
    "\n",
    "\n",
    "# Extraction des caractéristiques et des étiquettes\n",
    "X = data.drop(columns=['motor_UPDRS', 'total_UPDRS'])  # Caractéristiques\n",
    "\n",
    "y_motor_updrs = data['motor_UPDRS']  # Étiquette 1\n",
    "y_total_updrs=data['total_UPDRS'] # étiquette 2\n",
    "\n",
    "print(X)"
   ]
  },
  {
   "cell_type": "code",
   "execution_count": 25,
   "metadata": {
    "colab": {
     "base_uri": "https://localhost:8080/"
    },
    "id": "RweUwoV754hQ",
    "outputId": "01934eb5-5f67-4089-d04b-3b300ea370d1"
   },
   "outputs": [
    {
     "data": {
      "text/plain": [
       "39.511"
      ]
     },
     "execution_count": 25,
     "metadata": {},
     "output_type": "execute_result"
    }
   ],
   "source": [
    "y_motor_updrs.max()"
   ]
  },
  {
   "cell_type": "code",
   "execution_count": 7,
   "metadata": {
    "colab": {
     "base_uri": "https://localhost:8080/"
    },
    "id": "EbZB5D5n_PVM",
    "outputId": "1d26f216-40e9-4de3-ad5f-805c92ada779"
   },
   "outputs": [
    {
     "data": {
      "text/plain": [
       "(5875, 20)"
      ]
     },
     "execution_count": 7,
     "metadata": {},
     "output_type": "execute_result"
    }
   ],
   "source": [
    "X.shape"
   ]
  },
  {
   "cell_type": "code",
   "execution_count": 8,
   "metadata": {
    "id": "VS3IOt_R8bzE"
   },
   "outputs": [],
   "source": [
    "# Normalisation des caractéristiques\n",
    "scaler_X = MinMaxScaler()\n",
    "X_normalized = scaler_X.fit_transform(X)\n",
    "\n",
    "# Normalisation des étiquettes (en fonction du contexte de votre problème)\n",
    "scaler_y = MinMaxScaler()\n",
    "y_normalized_motor_UPDRS = scaler_y.fit_transform(y_motor_updrs.values.reshape(-1, 1))\n",
    "\n",
    "# Division des données en ensembles d'entraînement et de test\n",
    "x_train, x_test, y_train, y_test = train_test_split(X_normalized, y_normalized_motor_UPDRS, test_size=0.2, random_state=0)"
   ]
  },
  {
   "cell_type": "code",
   "execution_count": null,
   "metadata": {
    "colab": {
     "base_uri": "https://localhost:8080/"
    },
    "id": "B6cAnU799COg",
    "outputId": "eda36b30-dfcf-4308-d0aa-dfec018a99f6"
   },
   "outputs": [
    {
     "data": {
      "text/plain": [
       "(4700, 1)"
      ]
     },
     "execution_count": 10,
     "metadata": {},
     "output_type": "execute_result"
    }
   ],
   "source": [
    "y_train.shape"
   ]
  },
  {
   "cell_type": "code",
   "execution_count": 9,
   "metadata": {
    "id": "q_Pe_tem8Sr4"
   },
   "outputs": [],
   "source": [
    "from keras.datasets import mnist\n",
    "from keras.models import Sequential\n",
    "from keras.layers import Dense,LSTM\n",
    "from keras.initializers import RandomNormal"
   ]
  },
  {
   "cell_type": "code",
   "execution_count": 10,
   "metadata": {
    "colab": {
     "base_uri": "https://localhost:8080/"
    },
    "id": "sEHyoj6V8Yzy",
    "outputId": "2a312509-6b23-4720-b1c4-eae7b076cff9"
   },
   "outputs": [
    {
     "name": "stdout",
     "output_type": "stream",
     "text": [
      "Model: \"sequential_1\"\n",
      "_________________________________________________________________\n",
      " Layer (type)                Output Shape              Param #   \n",
      "=================================================================\n",
      " dense_3 (Dense)             (None, 120)               2520      \n",
      "                                                                 \n",
      " dense_4 (Dense)             (None, 120)               14520     \n",
      "                                                                 \n",
      " dense_5 (Dense)             (None, 1)                 121       \n",
      "                                                                 \n",
      "=================================================================\n",
      "Total params: 17161 (67.04 KB)\n",
      "Trainable params: 17161 (67.04 KB)\n",
      "Non-trainable params: 0 (0.00 Byte)\n",
      "_________________________________________________________________\n"
     ]
    }
   ],
   "source": [
    "#  Un modèle séquentiel est un type de modèle de réseau de neurones où\n",
    "# les couches sont empilées séquentiellement, ce qui signifie que les données passent d'une couche à l'autre dans l'ordre\n",
    "\n",
    "# Créer un modèle séquentiel\n",
    "\n",
    "# Création du modèle LSTM pour la régression\n",
    "model = Sequential([\n",
    "    Dense(120, activation='relu', input_shape=(20,)),  # Choisissez la forme d'entrée appropriée\n",
    "    Dense(120, activation='relu'),\n",
    "    Dense(1)  # Couche de sortie pour la régression (pas d'activation)\n",
    "])\n",
    "model.compile(\n",
    "    # Fonction de perte (loss function) pour mesurer l'erreur du modèle\n",
    "    #  est couramment utilisée pour les tâches de classification lorsque les étiquettes sont des entiers (au lieu d'être one-hot encoded)\n",
    "    loss='mean_squared_error',\n",
    "\n",
    "    # Optimiseur pour ajuster les poids du modèle\n",
    "    optimizer='adam',\n",
    "\n",
    "    # Métrique à surveiller pendant l'apprentissage\n",
    "    metrics=['mse']\n",
    ")\n",
    "\n",
    "model.summary()"
   ]
  },
  {
   "cell_type": "code",
   "execution_count": 11,
   "metadata": {
    "colab": {
     "base_uri": "https://localhost:8080/"
    },
    "id": "z0zRx4PU9tPc",
    "outputId": "04d2df95-d62e-4204-a45e-ec984a4ae482"
   },
   "outputs": [
    {
     "name": "stdout",
     "output_type": "stream",
     "text": [
      "Epoch 1/10\n",
      "40/40 [==============================] - 1s 3ms/step - loss: 0.1013 - mse: 0.1013\n",
      "Epoch 2/10\n",
      "40/40 [==============================] - 0s 3ms/step - loss: 0.0430 - mse: 0.0430\n",
      "Epoch 3/10\n",
      "40/40 [==============================] - 0s 3ms/step - loss: 0.0361 - mse: 0.0361\n",
      "Epoch 4/10\n",
      "40/40 [==============================] - 0s 4ms/step - loss: 0.0316 - mse: 0.0316\n",
      "Epoch 5/10\n",
      "40/40 [==============================] - 0s 4ms/step - loss: 0.0280 - mse: 0.0280\n",
      "Epoch 6/10\n",
      "40/40 [==============================] - 0s 5ms/step - loss: 0.0249 - mse: 0.0249\n",
      "Epoch 7/10\n",
      "40/40 [==============================] - 0s 4ms/step - loss: 0.0218 - mse: 0.0218\n",
      "Epoch 8/10\n",
      "40/40 [==============================] - 0s 4ms/step - loss: 0.0198 - mse: 0.0198\n",
      "Epoch 9/10\n",
      "40/40 [==============================] - 0s 5ms/step - loss: 0.0180 - mse: 0.0180\n",
      "Epoch 10/10\n",
      "40/40 [==============================] - 0s 4ms/step - loss: 0.0165 - mse: 0.0165\n"
     ]
    },
    {
     "data": {
      "text/plain": [
       "<keras.src.callbacks.History at 0x7a77ed9bac20>"
      ]
     },
     "execution_count": 11,
     "metadata": {},
     "output_type": "execute_result"
    }
   ],
   "source": [
    "model.fit(x_train,y_train,epochs=10,batch_size=120)"
   ]
  },
  {
   "cell_type": "code",
   "execution_count": 16,
   "metadata": {
    "colab": {
     "base_uri": "https://localhost:8080/"
    },
    "id": "LqqQQkLB94Z_",
    "outputId": "abd0a9d3-d52d-43d4-cfc0-7033e8d03284"
   },
   "outputs": [
    {
     "name": "stdout",
     "output_type": "stream",
     "text": [
      "37/37 [==============================] - 0s 2ms/step - loss: 0.0174 - mse: 0.0174\n",
      "Perte (MSE) sur l'ensemble de test : [0.01744757778942585, 0.01744757778942585]\n"
     ]
    }
   ],
   "source": [
    "# Évaluer le modèle sur l'ensemble de test\n",
    "loss = model.evaluate(x_test,y_test)\n",
    "print(f\"Perte (MSE) sur l'ensemble de test : {loss}\")"
   ]
  },
  {
   "cell_type": "code",
   "execution_count": 12,
   "metadata": {
    "colab": {
     "base_uri": "https://localhost:8080/"
    },
    "id": "JyZBnvQo0SDk",
    "outputId": "f33c4e46-466c-42c5-fead-3ebd2c3bc8d5"
   },
   "outputs": [
    {
     "data": {
      "text/plain": [
       "(20,)"
      ]
     },
     "execution_count": 12,
     "metadata": {},
     "output_type": "execute_result"
    }
   ],
   "source": [
    "ss= x_train[0]\n",
    "ss.shape"
   ]
  },
  {
   "cell_type": "code",
   "execution_count": 17,
   "metadata": {
    "colab": {
     "base_uri": "https://localhost:8080/"
    },
    "id": "sT1A5MHEqJrj",
    "outputId": "65ac330a-ea14-4080-f10f-3613b704716d"
   },
   "outputs": [
    {
     "name": "stdout",
     "output_type": "stream",
     "text": [
      "1/1 [==============================] - 0s 81ms/step\n",
      "[[0.54808044]]\n"
     ]
    }
   ],
   "source": [
    "import numpy as np\n",
    "\n",
    "# Aplatir l'exemple pour l'utiliser dans model.predict\n",
    "example_to_predict = np.expand_dims(x_train[0], axis=0)  # Ajoute une dimension supplémentaire pour avoir une forme (1, 20)\n",
    "\n",
    "# Faire la prédiction\n",
    "predictions_first = model.predict(example_to_predict)\n",
    "print(predictions_first)\n"
   ]
  },
  {
   "cell_type": "code",
   "execution_count": 18,
   "metadata": {
    "colab": {
     "base_uri": "https://localhost:8080/"
    },
    "id": "4CkNn-Ltoi9Q",
    "outputId": "df1369b3-9427-406d-8e5f-66d6e6f44ba8"
   },
   "outputs": [
    {
     "name": "stdout",
     "output_type": "stream",
     "text": [
      "[[23.93184]]\n"
     ]
    }
   ],
   "source": [
    "predictions_original = scaler_y.inverse_transform(predictions_first)\n",
    "print(predictions_original)"
   ]
  },
  {
   "cell_type": "code",
   "execution_count": 19,
   "metadata": {
    "colab": {
     "base_uri": "https://localhost:8080/"
    },
    "id": "_yPkK0stphaP",
    "outputId": "05a7dad2-dd7f-4eec-9b42-76c53fd447b4"
   },
   "outputs": [
    {
     "name": "stderr",
     "output_type": "stream",
     "text": [
      "/usr/local/lib/python3.10/dist-packages/keras/src/engine/training.py:3079: UserWarning: You are saving your model as an HDF5 file via `model.save()`. This file format is considered legacy. We recommend using instead the native Keras format, e.g. `model.save('my_model.keras')`.\n",
      "  saving_api.save_model(\n"
     ]
    }
   ],
   "source": [
    "model.save(\"my_model.h5\")"
   ]
  },
  {
   "cell_type": "code",
   "execution_count": 22,
   "metadata": {
    "id": "jzleJ3gs1b7S"
   },
   "outputs": [],
   "source": [
    "import tensorflow as tf\n",
    "\n",
    "loaded_model = tf.keras.models.load_model('/content/my_model.h5')\n"
   ]
  },
  {
   "cell_type": "code",
   "execution_count": 23,
   "metadata": {
    "colab": {
     "base_uri": "https://localhost:8080/"
    },
    "id": "6JBafkRp1hy9",
    "outputId": "bf37a08d-6de4-43c8-f498-c30f11f89d3f"
   },
   "outputs": [
    {
     "name": "stdout",
     "output_type": "stream",
     "text": [
      "1/1 [==============================] - 0s 231ms/step\n",
      "[[0.54808044]]\n"
     ]
    }
   ],
   "source": [
    "prediction = loaded_model.predict(example_to_predict)\n",
    "print(prediction)"
   ]
  },
  {
   "cell_type": "code",
   "execution_count": 24,
   "metadata": {
    "colab": {
     "base_uri": "https://localhost:8080/"
    },
    "id": "Dff_Uudi1-Qh",
    "outputId": "b18aa662-234c-445e-a395-7c8c6b463441"
   },
   "outputs": [
    {
     "name": "stdout",
     "output_type": "stream",
     "text": [
      "[[0.09756098 0.79591837 0.         0.27617661 0.04134732 0.08645735\n",
      "  0.03163783 0.03399392 0.03175066 0.1500546  0.16434407 0.13082081\n",
      "  0.16343591 0.14019856 0.13077942 0.0356737  0.43199139 0.54691679\n",
      "  0.43042439 0.30675297]]\n"
     ]
    }
   ],
   "source": [
    "print(example_to_predict)"
   ]
  },
  {
   "cell_type": "code",
   "execution_count": null,
   "metadata": {
    "id": "PULHw4kI3MSH"
   },
   "outputs": [],
   "source": []
  }
 ],
 "metadata": {
  "colab": {
   "provenance": []
  },
  "kernelspec": {
   "display_name": "Python 3 (ipykernel)",
   "language": "python",
   "name": "python3"
  },
  "language_info": {
   "codemirror_mode": {
    "name": "ipython",
    "version": 3
   },
   "file_extension": ".py",
   "mimetype": "text/x-python",
   "name": "python",
   "nbconvert_exporter": "python",
   "pygments_lexer": "ipython3",
   "version": "3.11.5"
  }
 },
 "nbformat": 4,
 "nbformat_minor": 1
}
